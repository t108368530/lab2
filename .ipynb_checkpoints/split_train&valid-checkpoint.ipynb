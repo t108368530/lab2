{
 "cells": [
  {
   "cell_type": "markdown",
   "metadata": {},
   "source": [
    "# 系統版本"
   ]
  },
  {
   "cell_type": "code",
   "execution_count": 2,
   "metadata": {},
   "outputs": [
    {
     "name": "stdout",
     "output_type": "stream",
     "text": [
      "DISTRIB_ID=Ubuntu\n",
      "DISTRIB_RELEASE=20.04\n",
      "DISTRIB_CODENAME=focal\n",
      "DISTRIB_DESCRIPTION=\"Ubuntu 20.04 LTS\"\n"
     ]
    }
   ],
   "source": [
    "! cat /etc/lsb-release"
   ]
  },
  {
   "cell_type": "code",
   "execution_count": 3,
   "metadata": {},
   "outputs": [],
   "source": [
    "import os\n",
    "from shutil import copyfile\n",
    "from random import shuffle\n",
    "\n",
    "splitNum: float = 0.5\n",
    "rawFolder: str = \"./RAW\"\n",
    "trainFolder: str = \"./train\"\n",
    "validFolder: str = \"./valid\"\n",
    "# pitchShiftFolder: str = \"./pitchShiftTest\"\n"
   ]
  },
  {
   "cell_type": "markdown",
   "metadata": {},
   "source": [
    "# 複製檔案結構"
   ]
  },
  {
   "cell_type": "code",
   "execution_count": 1,
   "metadata": {},
   "outputs": [
    {
     "name": "stdout",
     "output_type": "stream",
     "text": [
      "0 blocks\n",
      "0 blocks\n",
      ".\n",
      "./.ipynb_checkpoints\n",
      "./02\n",
      "./01\n"
     ]
    }
   ],
   "source": [
    "!cd RAW &&find . -type d | cpio -dumpl ../train &&find . -type d | cpio -dumpl ../valid &&find . -type d "
   ]
  },
  {
   "cell_type": "markdown",
   "metadata": {},
   "source": [
    "# 資料拆分\n",
    "\n",
    "- 默認會打亂檔案"
   ]
  },
  {
   "cell_type": "code",
   "execution_count": 4,
   "metadata": {},
   "outputs": [],
   "source": [
    "def check(splitNum: float, folder: str):\n",
    "    for dirname in os.listdir(folder):\n",
    "        for (dirpath, dirnames, filenames) in os.walk(os.path.join(folder, dirname)):\n",
    "            yield dirname, int(len(filenames) * splitNum),int(len(filenames) * splitNum* splitNum), filenames\n",
    "\n",
    "\n",
    "def split(\n",
    "    splitNum: float,\n",
    "    rawFolder: str,\n",
    "    trainFolder: str,\n",
    "    validFolder: str,\n",
    "#     pitchShiftFolder:str,\n",
    "    shuf: bool = True,\n",
    "):\n",
    "    \"\"\"[切割資料]\n",
    "    \n",
    "    Arguments:\n",
    "        splitNum {float} -- [訓練資料需要多少百分比,範例：60% =0.6]\n",
    "        rawFolder {str} -- [原始檔案的資料夾]\n",
    "        trainFolder {str} -- [訓練檔案的資料夾]\n",
    "        validFolder {str} -- [驗證檔案的資料夾]\n",
    "        pitchShiftFolder {str} -- [預備調音的檔案資料夾]\n",
    "    \n",
    "    Keyword Arguments:\n",
    "        shuf {bool} -- [是否要打亂檔案] (default: {True})\n",
    "    \n",
    "    Returns:\n",
    "        [none]] -- [沒有回傳值]\n",
    "    \"\"\"\n",
    "    for dirname, splitnum,splitnum2 ,files in check(splitNum, rawFolder):\n",
    "        if shuf:\n",
    "            shuffle(files)\n",
    "        else:\n",
    "            files.sort()\n",
    "        for file in files[:splitnum]:\n",
    "            sorce = os.path.join(rawFolder, dirname, file)\n",
    "            destination = os.path.join(trainFolder, dirname, file)\n",
    "            copyfile(sorce, destination)\n",
    "        for file in files[splitnum:splitnum2+splitnum]:\n",
    "            sorce = os.path.join(rawFolder, dirname, file)\n",
    "            destination = os.path.join(validFolder, dirname, file)\n",
    "            copyfile(sorce, destination)\n",
    "#         for file in files[splitnum2+splitnum:]:\n",
    "#             sorce = os.path.join(rawFolder, dirname, file)\n",
    "#             destination = os.path.join(pitchShiftFolder, dirname, file)\n",
    "#             copyfile(sorce, destination)"
   ]
  },
  {
   "cell_type": "code",
   "execution_count": 5,
   "metadata": {},
   "outputs": [
    {
     "ename": "NameError",
     "evalue": "name 'pitchShiftFolder' is not defined",
     "output_type": "error",
     "traceback": [
      "\u001b[0;31m---------------------------------------------------------------------------\u001b[0m",
      "\u001b[0;31mNameError\u001b[0m                                 Traceback (most recent call last)",
      "\u001b[0;32m<ipython-input-5-0a1048942e89>\u001b[0m in \u001b[0;36m<module>\u001b[0;34m\u001b[0m\n\u001b[0;32m----> 1\u001b[0;31m \u001b[0msplit\u001b[0m\u001b[0;34m(\u001b[0m\u001b[0msplitNum\u001b[0m\u001b[0;34m,\u001b[0m \u001b[0mrawFolder\u001b[0m\u001b[0;34m,\u001b[0m \u001b[0mtrainFolder\u001b[0m\u001b[0;34m,\u001b[0m \u001b[0mvalidFolder\u001b[0m\u001b[0;34m,\u001b[0m\u001b[0mpitchShiftFolder\u001b[0m\u001b[0;34m)\u001b[0m\u001b[0;34m\u001b[0m\u001b[0;34m\u001b[0m\u001b[0m\n\u001b[0m",
      "\u001b[0;31mNameError\u001b[0m: name 'pitchShiftFolder' is not defined"
     ]
    }
   ],
   "source": [
    "split(splitNum, rawFolder, trainFolder, validFolder)"
   ]
  },
  {
   "cell_type": "code",
   "execution_count": null,
   "metadata": {},
   "outputs": [],
   "source": []
  }
 ],
 "metadata": {
  "kernelspec": {
   "display_name": "Python 3",
   "language": "python",
   "name": "python3"
  },
  "language_info": {
   "codemirror_mode": {
    "name": "ipython",
    "version": 3
   },
   "file_extension": ".py",
   "mimetype": "text/x-python",
   "name": "python",
   "nbconvert_exporter": "python",
   "pygments_lexer": "ipython3",
   "version": "3.8.2"
  }
 },
 "nbformat": 4,
 "nbformat_minor": 4
}
